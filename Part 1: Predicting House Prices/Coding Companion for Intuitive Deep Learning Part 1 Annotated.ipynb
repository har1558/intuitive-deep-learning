{
 "cells": [
  {
   "cell_type": "markdown",
   "metadata": {},
   "source": [
    "# Coding Companion for Intuitive Deep Learning Part 1 (Annotated)"
   ]
  },
  {
   "cell_type": "markdown",
   "metadata": {},
   "source": [
    "Forked from https://github.com/josephlee94/intuitive-deep-learning. Credits to the original author at https://medium.com/@josephleeweien.\n",
    "Name: Randy\n",
    "I cleared all the outputs, then ran the program again to verify it works (which resulted in me fixing some things in the process to work with my environment.\n",
    "\n",
    "In this notebook, we'll go through the code for the coding companion for Intuitive Deep Learning Part 1 ([Part 1a](https://medium.com/intuitive-deep-learning/intuitive-deep-learning-part-1a-introduction-to-neural-networks-d7b16ebf6b99), [Part 1b](https://medium.com/intuitive-deep-learning/intuitive-deep-learning-part-1b-introduction-to-neural-networks-8565d97ddd2d)) to create your very first neural network to predict whether the house price is below or above median value. We will go through the following in this notebook:\n",
    "\n",
    "- Exploring and Processing the Data\n",
    "- Building and Training our Neural Network\n",
    "- Visualizing Loss and Accuracy\n",
    "- Adding Regularization to our Neural Network\n",
    "\n",
    "The code is annotated throughout the notebook and you simply need to download the dataset [here](https://drive.google.com/file/d/1GfvKA0qznNVknghV4botnNxyH-KvODOC/view), put the dataset in the same folder as this notebook and run the code cells below. Note that the results you get might differ slightly from the blogpost as there is a degree of randomness in the way we split our dataset as well as the initialization of our neural network."
   ]
  },
  {
   "cell_type": "markdown",
   "metadata": {},
   "source": [
    "# Exploring and Processing the Data"
   ]
  },
  {
   "cell_type": "markdown",
   "metadata": {},
   "source": [
    "We first have to read in the CSV file that we've been given. We'll use a package called pandas for that:"
   ]
  },
  {
   "cell_type": "code",
   "execution_count": 1,
   "metadata": {},
   "outputs": [],
   "source": [
    "import pandas as pd"
   ]
  },
  {
   "cell_type": "code",
   "execution_count": 2,
   "metadata": {},
   "outputs": [],
   "source": [
    "df = pd.read_csv('housepricedata.csv')"
   ]
  },
  {
   "cell_type": "code",
   "execution_count": 3,
   "metadata": {},
   "outputs": [
    {
     "data": {
      "text/html": [
       "<div>\n",
       "<style scoped>\n",
       "    .dataframe tbody tr th:only-of-type {\n",
       "        vertical-align: middle;\n",
       "    }\n",
       "\n",
       "    .dataframe tbody tr th {\n",
       "        vertical-align: top;\n",
       "    }\n",
       "\n",
       "    .dataframe thead th {\n",
       "        text-align: right;\n",
       "    }\n",
       "</style>\n",
       "<table border=\"1\" class=\"dataframe\">\n",
       "  <thead>\n",
       "    <tr style=\"text-align: right;\">\n",
       "      <th></th>\n",
       "      <th>LotArea</th>\n",
       "      <th>OverallQual</th>\n",
       "      <th>OverallCond</th>\n",
       "      <th>TotalBsmtSF</th>\n",
       "      <th>FullBath</th>\n",
       "      <th>HalfBath</th>\n",
       "      <th>BedroomAbvGr</th>\n",
       "      <th>TotRmsAbvGrd</th>\n",
       "      <th>Fireplaces</th>\n",
       "      <th>GarageArea</th>\n",
       "      <th>AboveMedianPrice</th>\n",
       "    </tr>\n",
       "  </thead>\n",
       "  <tbody>\n",
       "    <tr>\n",
       "      <th>0</th>\n",
       "      <td>8450</td>\n",
       "      <td>7</td>\n",
       "      <td>5</td>\n",
       "      <td>856</td>\n",
       "      <td>2</td>\n",
       "      <td>1</td>\n",
       "      <td>3</td>\n",
       "      <td>8</td>\n",
       "      <td>0</td>\n",
       "      <td>548</td>\n",
       "      <td>1</td>\n",
       "    </tr>\n",
       "    <tr>\n",
       "      <th>1</th>\n",
       "      <td>9600</td>\n",
       "      <td>6</td>\n",
       "      <td>8</td>\n",
       "      <td>1262</td>\n",
       "      <td>2</td>\n",
       "      <td>0</td>\n",
       "      <td>3</td>\n",
       "      <td>6</td>\n",
       "      <td>1</td>\n",
       "      <td>460</td>\n",
       "      <td>1</td>\n",
       "    </tr>\n",
       "    <tr>\n",
       "      <th>2</th>\n",
       "      <td>11250</td>\n",
       "      <td>7</td>\n",
       "      <td>5</td>\n",
       "      <td>920</td>\n",
       "      <td>2</td>\n",
       "      <td>1</td>\n",
       "      <td>3</td>\n",
       "      <td>6</td>\n",
       "      <td>1</td>\n",
       "      <td>608</td>\n",
       "      <td>1</td>\n",
       "    </tr>\n",
       "    <tr>\n",
       "      <th>3</th>\n",
       "      <td>9550</td>\n",
       "      <td>7</td>\n",
       "      <td>5</td>\n",
       "      <td>756</td>\n",
       "      <td>1</td>\n",
       "      <td>0</td>\n",
       "      <td>3</td>\n",
       "      <td>7</td>\n",
       "      <td>1</td>\n",
       "      <td>642</td>\n",
       "      <td>0</td>\n",
       "    </tr>\n",
       "    <tr>\n",
       "      <th>4</th>\n",
       "      <td>14260</td>\n",
       "      <td>8</td>\n",
       "      <td>5</td>\n",
       "      <td>1145</td>\n",
       "      <td>2</td>\n",
       "      <td>1</td>\n",
       "      <td>4</td>\n",
       "      <td>9</td>\n",
       "      <td>1</td>\n",
       "      <td>836</td>\n",
       "      <td>1</td>\n",
       "    </tr>\n",
       "    <tr>\n",
       "      <th>...</th>\n",
       "      <td>...</td>\n",
       "      <td>...</td>\n",
       "      <td>...</td>\n",
       "      <td>...</td>\n",
       "      <td>...</td>\n",
       "      <td>...</td>\n",
       "      <td>...</td>\n",
       "      <td>...</td>\n",
       "      <td>...</td>\n",
       "      <td>...</td>\n",
       "      <td>...</td>\n",
       "    </tr>\n",
       "    <tr>\n",
       "      <th>1455</th>\n",
       "      <td>7917</td>\n",
       "      <td>6</td>\n",
       "      <td>5</td>\n",
       "      <td>953</td>\n",
       "      <td>2</td>\n",
       "      <td>1</td>\n",
       "      <td>3</td>\n",
       "      <td>7</td>\n",
       "      <td>1</td>\n",
       "      <td>460</td>\n",
       "      <td>1</td>\n",
       "    </tr>\n",
       "    <tr>\n",
       "      <th>1456</th>\n",
       "      <td>13175</td>\n",
       "      <td>6</td>\n",
       "      <td>6</td>\n",
       "      <td>1542</td>\n",
       "      <td>2</td>\n",
       "      <td>0</td>\n",
       "      <td>3</td>\n",
       "      <td>7</td>\n",
       "      <td>2</td>\n",
       "      <td>500</td>\n",
       "      <td>1</td>\n",
       "    </tr>\n",
       "    <tr>\n",
       "      <th>1457</th>\n",
       "      <td>9042</td>\n",
       "      <td>7</td>\n",
       "      <td>9</td>\n",
       "      <td>1152</td>\n",
       "      <td>2</td>\n",
       "      <td>0</td>\n",
       "      <td>4</td>\n",
       "      <td>9</td>\n",
       "      <td>2</td>\n",
       "      <td>252</td>\n",
       "      <td>1</td>\n",
       "    </tr>\n",
       "    <tr>\n",
       "      <th>1458</th>\n",
       "      <td>9717</td>\n",
       "      <td>5</td>\n",
       "      <td>6</td>\n",
       "      <td>1078</td>\n",
       "      <td>1</td>\n",
       "      <td>0</td>\n",
       "      <td>2</td>\n",
       "      <td>5</td>\n",
       "      <td>0</td>\n",
       "      <td>240</td>\n",
       "      <td>0</td>\n",
       "    </tr>\n",
       "    <tr>\n",
       "      <th>1459</th>\n",
       "      <td>9937</td>\n",
       "      <td>5</td>\n",
       "      <td>6</td>\n",
       "      <td>1256</td>\n",
       "      <td>1</td>\n",
       "      <td>1</td>\n",
       "      <td>3</td>\n",
       "      <td>6</td>\n",
       "      <td>0</td>\n",
       "      <td>276</td>\n",
       "      <td>0</td>\n",
       "    </tr>\n",
       "  </tbody>\n",
       "</table>\n",
       "<p>1460 rows × 11 columns</p>\n",
       "</div>"
      ],
      "text/plain": [
       "      LotArea  OverallQual  OverallCond  TotalBsmtSF  FullBath  HalfBath  \\\n",
       "0        8450            7            5          856         2         1   \n",
       "1        9600            6            8         1262         2         0   \n",
       "2       11250            7            5          920         2         1   \n",
       "3        9550            7            5          756         1         0   \n",
       "4       14260            8            5         1145         2         1   \n",
       "...       ...          ...          ...          ...       ...       ...   \n",
       "1455     7917            6            5          953         2         1   \n",
       "1456    13175            6            6         1542         2         0   \n",
       "1457     9042            7            9         1152         2         0   \n",
       "1458     9717            5            6         1078         1         0   \n",
       "1459     9937            5            6         1256         1         1   \n",
       "\n",
       "      BedroomAbvGr  TotRmsAbvGrd  Fireplaces  GarageArea  AboveMedianPrice  \n",
       "0                3             8           0         548                 1  \n",
       "1                3             6           1         460                 1  \n",
       "2                3             6           1         608                 1  \n",
       "3                3             7           1         642                 0  \n",
       "4                4             9           1         836                 1  \n",
       "...            ...           ...         ...         ...               ...  \n",
       "1455             3             7           1         460                 1  \n",
       "1456             3             7           2         500                 1  \n",
       "1457             4             9           2         252                 1  \n",
       "1458             2             5           0         240                 0  \n",
       "1459             3             6           0         276                 0  \n",
       "\n",
       "[1460 rows x 11 columns]"
      ]
     },
     "execution_count": 3,
     "metadata": {},
     "output_type": "execute_result"
    }
   ],
   "source": [
    "df"
   ]
  },
  {
   "cell_type": "markdown",
   "metadata": {},
   "source": [
    "The dataset that we have now is in what we call a pandas dataframe. To convert it to an array, simply access its values:"
   ]
  },
  {
   "cell_type": "code",
   "execution_count": 4,
   "metadata": {},
   "outputs": [],
   "source": [
    "dataset = df.values"
   ]
  },
  {
   "cell_type": "code",
   "execution_count": 5,
   "metadata": {},
   "outputs": [
    {
     "data": {
      "text/plain": [
       "array([[ 8450,     7,     5, ...,     0,   548,     1],\n",
       "       [ 9600,     6,     8, ...,     1,   460,     1],\n",
       "       [11250,     7,     5, ...,     1,   608,     1],\n",
       "       ...,\n",
       "       [ 9042,     7,     9, ...,     2,   252,     1],\n",
       "       [ 9717,     5,     6, ...,     0,   240,     0],\n",
       "       [ 9937,     5,     6, ...,     0,   276,     0]])"
      ]
     },
     "execution_count": 5,
     "metadata": {},
     "output_type": "execute_result"
    }
   ],
   "source": [
    "dataset"
   ]
  },
  {
   "cell_type": "markdown",
   "metadata": {},
   "source": [
    "Now, we split the dataset into our input features and the label we wish to predict."
   ]
  },
  {
   "cell_type": "code",
   "execution_count": 6,
   "metadata": {},
   "outputs": [],
   "source": [
    "X = dataset[:,0:10]\n",
    "Y = dataset[:,10]"
   ]
  },
  {
   "cell_type": "markdown",
   "metadata": {},
   "source": [
    "Normalizing our data is very important, as we want the input features to be on the same order of magnitude to make our training easier. We'll use a min-max scaler from scikit-learn which scales our data to be between 0 and 1."
   ]
  },
  {
   "cell_type": "code",
   "execution_count": 7,
   "metadata": {},
   "outputs": [],
   "source": [
    "from sklearn import preprocessing"
   ]
  },
  {
   "cell_type": "code",
   "execution_count": 8,
   "metadata": {},
   "outputs": [],
   "source": [
    "min_max_scaler = preprocessing.MinMaxScaler()\n",
    "X_scale = min_max_scaler.fit_transform(X)"
   ]
  },
  {
   "cell_type": "code",
   "execution_count": 9,
   "metadata": {},
   "outputs": [
    {
     "data": {
      "text/plain": [
       "array([[0.0334198 , 0.66666667, 0.5       , ..., 0.5       , 0.        ,\n",
       "        0.3864598 ],\n",
       "       [0.03879502, 0.55555556, 0.875     , ..., 0.33333333, 0.33333333,\n",
       "        0.32440056],\n",
       "       [0.04650728, 0.66666667, 0.5       , ..., 0.33333333, 0.33333333,\n",
       "        0.42877292],\n",
       "       ...,\n",
       "       [0.03618687, 0.66666667, 1.        , ..., 0.58333333, 0.66666667,\n",
       "        0.17771509],\n",
       "       [0.03934189, 0.44444444, 0.625     , ..., 0.25      , 0.        ,\n",
       "        0.16925247],\n",
       "       [0.04037019, 0.44444444, 0.625     , ..., 0.33333333, 0.        ,\n",
       "        0.19464034]])"
      ]
     },
     "execution_count": 9,
     "metadata": {},
     "output_type": "execute_result"
    }
   ],
   "source": [
    "X_scale"
   ]
  },
  {
   "cell_type": "markdown",
   "metadata": {},
   "source": [
    "Lastly, we wish to set aside some parts of our dataset for a validation set and a test set. We use the function train_test_split from scikit-learn to do that."
   ]
  },
  {
   "cell_type": "code",
   "execution_count": 10,
   "metadata": {},
   "outputs": [],
   "source": [
    "from sklearn.model_selection import train_test_split"
   ]
  },
  {
   "cell_type": "code",
   "execution_count": 11,
   "metadata": {},
   "outputs": [],
   "source": [
    "X_train, X_val_and_test, Y_train, Y_val_and_test = train_test_split(X_scale, Y, test_size=0.3)"
   ]
  },
  {
   "cell_type": "code",
   "execution_count": 12,
   "metadata": {},
   "outputs": [],
   "source": [
    "X_val, X_test, Y_val, Y_test = train_test_split(X_val_and_test, Y_val_and_test, test_size=0.5)"
   ]
  },
  {
   "cell_type": "code",
   "execution_count": 13,
   "metadata": {},
   "outputs": [
    {
     "name": "stdout",
     "output_type": "stream",
     "text": [
      "(1022, 10) (219, 10) (219, 10) (1022,) (219,) (219,)\n"
     ]
    }
   ],
   "source": [
    "print(X_train.shape, X_val.shape, X_test.shape, Y_train.shape, Y_val.shape, Y_test.shape)"
   ]
  },
  {
   "cell_type": "markdown",
   "metadata": {},
   "source": [
    "# Building and Training Our First Neural Network"
   ]
  },
  {
   "cell_type": "markdown",
   "metadata": {},
   "source": [
    "We will be using Keras to build our architecture. Let's import the code from Keras that we will need to use:"
   ]
  },
  {
   "cell_type": "code",
   "execution_count": 15,
   "metadata": {},
   "outputs": [],
   "source": [
    "from tensorflow.keras.models import Sequential\n",
    "from tensorflow.keras.layers import Dense"
   ]
  },
  {
   "cell_type": "markdown",
   "metadata": {},
   "source": [
    "We will be using the Sequential model, which means that we merely need to describe the layers above in sequence. Our neural network has three layers:\n",
    "\n",
    "- Hidden layer 1: 30 neurons, ReLU activation\n",
    "- Hidden layer 2: 30 neurons, ReLU activation\n",
    "- Output Layer: 1 neuron, Sigmoid activation"
   ]
  },
  {
   "cell_type": "code",
   "execution_count": 16,
   "metadata": {},
   "outputs": [],
   "source": [
    "model = Sequential([\n",
    "    Dense(32, activation='relu', input_shape=(10,)),\n",
    "    Dense(32, activation='relu'),\n",
    "    Dense(1, activation='sigmoid'),\n",
    "])"
   ]
  },
  {
   "cell_type": "markdown",
   "metadata": {},
   "source": [
    "Now that we've got our architecture specified, we need to find the best numbers for it. Before we start our training, we have to configure the model by\n",
    "- Telling it what algorithm you want to use to do the optimization (we'll use stochastic gradient descent)\n",
    "- Telling it what loss function to use (for binary classification, we will use binary cross entropy)\n",
    "- Telling it what other metrics you want to track apart from the loss function (we want to track accuracy as well)\n",
    "\n",
    "We do so below:"
   ]
  },
  {
   "cell_type": "code",
   "execution_count": 17,
   "metadata": {},
   "outputs": [],
   "source": [
    "model.compile(optimizer='sgd',\n",
    "              loss='binary_crossentropy',\n",
    "              metrics=['accuracy'])"
   ]
  },
  {
   "cell_type": "markdown",
   "metadata": {},
   "source": [
    "Training on the data is pretty straightforward and requires us to write one line of code. The function is called 'fit' as we are fitting the parameters to the data. We specify:\n",
    "- what data we are training on, which is X_train and Y_train\n",
    "- the size of our mini-batch \n",
    "- how long we want to train it for (epochs)\n",
    "- what our validation data is so that the model will tell us how we are doing on the validation data at each point.\n",
    "\n",
    "This function will output a history, which we save under the variable hist. We'll use this variable a little later."
   ]
  },
  {
   "cell_type": "code",
   "execution_count": 18,
   "metadata": {},
   "outputs": [
    {
     "name": "stdout",
     "output_type": "stream",
     "text": [
      "Epoch 1/100\n",
      "32/32 [==============================] - 0s 14ms/step - loss: 0.6933 - accuracy: 0.5245 - val_loss: 0.6900 - val_accuracy: 0.5525\n",
      "Epoch 2/100\n",
      "32/32 [==============================] - 0s 3ms/step - loss: 0.6872 - accuracy: 0.6135 - val_loss: 0.6851 - val_accuracy: 0.6484\n",
      "Epoch 3/100\n",
      "32/32 [==============================] - 0s 3ms/step - loss: 0.6821 - accuracy: 0.6654 - val_loss: 0.6811 - val_accuracy: 0.6758\n",
      "Epoch 4/100\n",
      "32/32 [==============================] - 0s 3ms/step - loss: 0.6777 - accuracy: 0.7065 - val_loss: 0.6773 - val_accuracy: 0.6849\n",
      "Epoch 5/100\n",
      "32/32 [==============================] - 0s 3ms/step - loss: 0.6733 - accuracy: 0.7250 - val_loss: 0.6737 - val_accuracy: 0.7032\n",
      "Epoch 6/100\n",
      "32/32 [==============================] - 0s 4ms/step - loss: 0.6691 - accuracy: 0.7407 - val_loss: 0.6701 - val_accuracy: 0.7078\n",
      "Epoch 7/100\n",
      "32/32 [==============================] - 0s 3ms/step - loss: 0.6647 - accuracy: 0.7505 - val_loss: 0.6664 - val_accuracy: 0.7260\n",
      "Epoch 8/100\n",
      "32/32 [==============================] - 0s 3ms/step - loss: 0.6599 - accuracy: 0.7642 - val_loss: 0.6626 - val_accuracy: 0.7306\n",
      "Epoch 9/100\n",
      "32/32 [==============================] - 0s 3ms/step - loss: 0.6549 - accuracy: 0.7847 - val_loss: 0.6585 - val_accuracy: 0.7397\n",
      "Epoch 10/100\n",
      "32/32 [==============================] - 0s 4ms/step - loss: 0.6492 - accuracy: 0.7994 - val_loss: 0.6538 - val_accuracy: 0.7534\n",
      "Epoch 11/100\n",
      "32/32 [==============================] - 0s 4ms/step - loss: 0.6433 - accuracy: 0.8063 - val_loss: 0.6489 - val_accuracy: 0.7580\n",
      "Epoch 12/100\n",
      "32/32 [==============================] - 0s 4ms/step - loss: 0.6370 - accuracy: 0.8131 - val_loss: 0.6439 - val_accuracy: 0.7580\n",
      "Epoch 13/100\n",
      "32/32 [==============================] - 0s 3ms/step - loss: 0.6307 - accuracy: 0.8141 - val_loss: 0.6381 - val_accuracy: 0.7626\n",
      "Epoch 14/100\n",
      "32/32 [==============================] - 0s 3ms/step - loss: 0.6242 - accuracy: 0.8209 - val_loss: 0.6326 - val_accuracy: 0.7626\n",
      "Epoch 15/100\n",
      "32/32 [==============================] - 0s 4ms/step - loss: 0.6177 - accuracy: 0.8327 - val_loss: 0.6270 - val_accuracy: 0.7671\n",
      "Epoch 16/100\n",
      "32/32 [==============================] - 0s 3ms/step - loss: 0.6109 - accuracy: 0.8366 - val_loss: 0.6212 - val_accuracy: 0.7671\n",
      "Epoch 17/100\n",
      "32/32 [==============================] - 0s 4ms/step - loss: 0.6038 - accuracy: 0.8454 - val_loss: 0.6152 - val_accuracy: 0.7808\n",
      "Epoch 18/100\n",
      "32/32 [==============================] - 0s 3ms/step - loss: 0.5964 - accuracy: 0.8454 - val_loss: 0.6092 - val_accuracy: 0.7854\n",
      "Epoch 19/100\n",
      "32/32 [==============================] - 0s 4ms/step - loss: 0.5887 - accuracy: 0.8532 - val_loss: 0.6030 - val_accuracy: 0.7854\n",
      "Epoch 20/100\n",
      "32/32 [==============================] - 0s 3ms/step - loss: 0.5808 - accuracy: 0.8503 - val_loss: 0.5956 - val_accuracy: 0.7945\n",
      "Epoch 21/100\n",
      "32/32 [==============================] - 0s 3ms/step - loss: 0.5724 - accuracy: 0.8523 - val_loss: 0.5892 - val_accuracy: 0.7900\n",
      "Epoch 22/100\n",
      "32/32 [==============================] - 0s 4ms/step - loss: 0.5636 - accuracy: 0.8513 - val_loss: 0.5817 - val_accuracy: 0.7991\n",
      "Epoch 23/100\n",
      "32/32 [==============================] - 0s 3ms/step - loss: 0.5547 - accuracy: 0.8523 - val_loss: 0.5741 - val_accuracy: 0.7991\n",
      "Epoch 24/100\n",
      "32/32 [==============================] - 0s 3ms/step - loss: 0.5455 - accuracy: 0.8552 - val_loss: 0.5669 - val_accuracy: 0.7991\n",
      "Epoch 25/100\n",
      "32/32 [==============================] - 0s 3ms/step - loss: 0.5360 - accuracy: 0.8513 - val_loss: 0.5591 - val_accuracy: 0.7945\n",
      "Epoch 26/100\n",
      "32/32 [==============================] - 0s 4ms/step - loss: 0.5264 - accuracy: 0.8542 - val_loss: 0.5509 - val_accuracy: 0.7991\n",
      "Epoch 27/100\n",
      "32/32 [==============================] - 0s 4ms/step - loss: 0.5167 - accuracy: 0.8532 - val_loss: 0.5432 - val_accuracy: 0.7991\n",
      "Epoch 28/100\n",
      "32/32 [==============================] - 0s 3ms/step - loss: 0.5068 - accuracy: 0.8532 - val_loss: 0.5354 - val_accuracy: 0.7991\n",
      "Epoch 29/100\n",
      "32/32 [==============================] - 0s 4ms/step - loss: 0.4969 - accuracy: 0.8552 - val_loss: 0.5277 - val_accuracy: 0.7991\n",
      "Epoch 30/100\n",
      "32/32 [==============================] - 0s 3ms/step - loss: 0.4870 - accuracy: 0.8532 - val_loss: 0.5196 - val_accuracy: 0.8082\n",
      "Epoch 31/100\n",
      "32/32 [==============================] - 0s 4ms/step - loss: 0.4770 - accuracy: 0.8562 - val_loss: 0.5121 - val_accuracy: 0.7991\n",
      "Epoch 32/100\n",
      "32/32 [==============================] - 0s 4ms/step - loss: 0.4674 - accuracy: 0.8591 - val_loss: 0.5048 - val_accuracy: 0.7991\n",
      "Epoch 33/100\n",
      "32/32 [==============================] - 0s 4ms/step - loss: 0.4574 - accuracy: 0.8581 - val_loss: 0.4970 - val_accuracy: 0.8037\n",
      "Epoch 34/100\n",
      "32/32 [==============================] - 0s 3ms/step - loss: 0.4480 - accuracy: 0.8601 - val_loss: 0.4900 - val_accuracy: 0.8082\n",
      "Epoch 35/100\n",
      "32/32 [==============================] - 0s 3ms/step - loss: 0.4387 - accuracy: 0.8611 - val_loss: 0.4834 - val_accuracy: 0.8037\n",
      "Epoch 36/100\n",
      "32/32 [==============================] - 0s 4ms/step - loss: 0.4298 - accuracy: 0.8650 - val_loss: 0.4768 - val_accuracy: 0.8037\n",
      "Epoch 37/100\n",
      "32/32 [==============================] - 0s 3ms/step - loss: 0.4210 - accuracy: 0.8571 - val_loss: 0.4701 - val_accuracy: 0.8128\n",
      "Epoch 38/100\n",
      "32/32 [==============================] - 0s 3ms/step - loss: 0.4126 - accuracy: 0.8679 - val_loss: 0.4641 - val_accuracy: 0.8128\n",
      "Epoch 39/100\n",
      "32/32 [==============================] - 0s 4ms/step - loss: 0.4044 - accuracy: 0.8689 - val_loss: 0.4585 - val_accuracy: 0.8082\n",
      "Epoch 40/100\n",
      "32/32 [==============================] - 0s 3ms/step - loss: 0.3966 - accuracy: 0.8669 - val_loss: 0.4529 - val_accuracy: 0.8128\n",
      "Epoch 41/100\n",
      "32/32 [==============================] - 0s 3ms/step - loss: 0.3891 - accuracy: 0.8679 - val_loss: 0.4478 - val_accuracy: 0.8174\n",
      "Epoch 42/100\n",
      "32/32 [==============================] - 0s 3ms/step - loss: 0.3816 - accuracy: 0.8708 - val_loss: 0.4432 - val_accuracy: 0.8174\n",
      "Epoch 43/100\n",
      "32/32 [==============================] - 0s 3ms/step - loss: 0.3752 - accuracy: 0.8728 - val_loss: 0.4385 - val_accuracy: 0.8219\n",
      "Epoch 44/100\n",
      "32/32 [==============================] - ETA: 0s - loss: 0.3685 - accuracy: 0.87 - 0s 3ms/step - loss: 0.3685 - accuracy: 0.8708 - val_loss: 0.4344 - val_accuracy: 0.8219\n",
      "Epoch 45/100\n",
      "32/32 [==============================] - 0s 3ms/step - loss: 0.3620 - accuracy: 0.8748 - val_loss: 0.4307 - val_accuracy: 0.8219\n",
      "Epoch 46/100\n",
      "32/32 [==============================] - 0s 4ms/step - loss: 0.3562 - accuracy: 0.8777 - val_loss: 0.4262 - val_accuracy: 0.8174\n",
      "Epoch 47/100\n",
      "32/32 [==============================] - 0s 5ms/step - loss: 0.3506 - accuracy: 0.8728 - val_loss: 0.4226 - val_accuracy: 0.8174\n",
      "Epoch 48/100\n",
      "32/32 [==============================] - 0s 4ms/step - loss: 0.3451 - accuracy: 0.8748 - val_loss: 0.4206 - val_accuracy: 0.8265\n",
      "Epoch 49/100\n",
      "32/32 [==============================] - 0s 3ms/step - loss: 0.3405 - accuracy: 0.8816 - val_loss: 0.4163 - val_accuracy: 0.8174\n",
      "Epoch 50/100\n",
      "32/32 [==============================] - 0s 3ms/step - loss: 0.3359 - accuracy: 0.8787 - val_loss: 0.4134 - val_accuracy: 0.8174\n",
      "Epoch 51/100\n",
      "32/32 [==============================] - 0s 3ms/step - loss: 0.3310 - accuracy: 0.8787 - val_loss: 0.4126 - val_accuracy: 0.8265\n",
      "Epoch 52/100\n",
      "32/32 [==============================] - 0s 4ms/step - loss: 0.3273 - accuracy: 0.8787 - val_loss: 0.4112 - val_accuracy: 0.8265\n",
      "Epoch 53/100\n",
      "32/32 [==============================] - 0s 4ms/step - loss: 0.3231 - accuracy: 0.8845 - val_loss: 0.4063 - val_accuracy: 0.8265\n",
      "Epoch 54/100\n",
      "32/32 [==============================] - 0s 3ms/step - loss: 0.3193 - accuracy: 0.8806 - val_loss: 0.4031 - val_accuracy: 0.8082\n",
      "Epoch 55/100\n",
      "32/32 [==============================] - 0s 4ms/step - loss: 0.3157 - accuracy: 0.8816 - val_loss: 0.4026 - val_accuracy: 0.8219\n",
      "Epoch 56/100\n",
      "32/32 [==============================] - 0s 4ms/step - loss: 0.3123 - accuracy: 0.8816 - val_loss: 0.3998 - val_accuracy: 0.8219\n",
      "Epoch 57/100\n",
      "32/32 [==============================] - 0s 3ms/step - loss: 0.3087 - accuracy: 0.8855 - val_loss: 0.3979 - val_accuracy: 0.8174\n",
      "Epoch 58/100\n",
      "32/32 [==============================] - 0s 3ms/step - loss: 0.3059 - accuracy: 0.8816 - val_loss: 0.3971 - val_accuracy: 0.8174\n",
      "Epoch 59/100\n",
      "32/32 [==============================] - 0s 4ms/step - loss: 0.3028 - accuracy: 0.8865 - val_loss: 0.3961 - val_accuracy: 0.8128\n",
      "Epoch 60/100\n",
      "32/32 [==============================] - 0s 4ms/step - loss: 0.2994 - accuracy: 0.8894 - val_loss: 0.3972 - val_accuracy: 0.8174\n",
      "Epoch 61/100\n",
      "32/32 [==============================] - 0s 4ms/step - loss: 0.2976 - accuracy: 0.8845 - val_loss: 0.3930 - val_accuracy: 0.8128\n",
      "Epoch 62/100\n",
      "32/32 [==============================] - 0s 4ms/step - loss: 0.2948 - accuracy: 0.8855 - val_loss: 0.3897 - val_accuracy: 0.8128\n",
      "Epoch 63/100\n",
      "32/32 [==============================] - 0s 4ms/step - loss: 0.2927 - accuracy: 0.8845 - val_loss: 0.3892 - val_accuracy: 0.8082\n",
      "Epoch 64/100\n",
      "32/32 [==============================] - 0s 4ms/step - loss: 0.2902 - accuracy: 0.8826 - val_loss: 0.3890 - val_accuracy: 0.7991\n",
      "Epoch 65/100\n",
      "32/32 [==============================] - 0s 4ms/step - loss: 0.2874 - accuracy: 0.8855 - val_loss: 0.3856 - val_accuracy: 0.8265\n",
      "Epoch 66/100\n",
      "32/32 [==============================] - 0s 3ms/step - loss: 0.2863 - accuracy: 0.8826 - val_loss: 0.3860 - val_accuracy: 0.8128\n",
      "Epoch 67/100\n",
      "32/32 [==============================] - 0s 3ms/step - loss: 0.2838 - accuracy: 0.8836 - val_loss: 0.3845 - val_accuracy: 0.8174\n",
      "Epoch 68/100\n",
      "32/32 [==============================] - 0s 3ms/step - loss: 0.2811 - accuracy: 0.8865 - val_loss: 0.3889 - val_accuracy: 0.8174\n",
      "Epoch 69/100\n",
      "32/32 [==============================] - 0s 3ms/step - loss: 0.2806 - accuracy: 0.8836 - val_loss: 0.3830 - val_accuracy: 0.8174\n",
      "Epoch 70/100\n",
      "32/32 [==============================] - 0s 4ms/step - loss: 0.2781 - accuracy: 0.8875 - val_loss: 0.3821 - val_accuracy: 0.8219\n",
      "Epoch 71/100\n",
      "32/32 [==============================] - 0s 3ms/step - loss: 0.2772 - accuracy: 0.8904 - val_loss: 0.3828 - val_accuracy: 0.8219\n",
      "Epoch 72/100\n",
      "32/32 [==============================] - 0s 3ms/step - loss: 0.2747 - accuracy: 0.8865 - val_loss: 0.3799 - val_accuracy: 0.8219\n",
      "Epoch 73/100\n",
      "32/32 [==============================] - 0s 3ms/step - loss: 0.2735 - accuracy: 0.8845 - val_loss: 0.3809 - val_accuracy: 0.8219\n",
      "Epoch 74/100\n",
      "32/32 [==============================] - 0s 3ms/step - loss: 0.2719 - accuracy: 0.8875 - val_loss: 0.3792 - val_accuracy: 0.8219\n",
      "Epoch 75/100\n",
      "32/32 [==============================] - 0s 4ms/step - loss: 0.2708 - accuracy: 0.8894 - val_loss: 0.3792 - val_accuracy: 0.8219\n",
      "Epoch 76/100\n",
      "32/32 [==============================] - 0s 3ms/step - loss: 0.2688 - accuracy: 0.8894 - val_loss: 0.3761 - val_accuracy: 0.8402\n",
      "Epoch 77/100\n",
      "32/32 [==============================] - 0s 4ms/step - loss: 0.2677 - accuracy: 0.8924 - val_loss: 0.3770 - val_accuracy: 0.8265\n",
      "Epoch 78/100\n",
      "32/32 [==============================] - 0s 3ms/step - loss: 0.2663 - accuracy: 0.8904 - val_loss: 0.3772 - val_accuracy: 0.8219\n",
      "Epoch 79/100\n",
      "32/32 [==============================] - 0s 3ms/step - loss: 0.2647 - accuracy: 0.8914 - val_loss: 0.3810 - val_accuracy: 0.8128\n",
      "Epoch 80/100\n",
      "32/32 [==============================] - 0s 4ms/step - loss: 0.2634 - accuracy: 0.8924 - val_loss: 0.3773 - val_accuracy: 0.8219\n",
      "Epoch 81/100\n",
      "32/32 [==============================] - 0s 3ms/step - loss: 0.2626 - accuracy: 0.8933 - val_loss: 0.3739 - val_accuracy: 0.8356\n",
      "Epoch 82/100\n",
      "32/32 [==============================] - 0s 3ms/step - loss: 0.2613 - accuracy: 0.8914 - val_loss: 0.3760 - val_accuracy: 0.8219\n",
      "Epoch 83/100\n",
      "32/32 [==============================] - 0s 3ms/step - loss: 0.2608 - accuracy: 0.8953 - val_loss: 0.3752 - val_accuracy: 0.8219\n",
      "Epoch 84/100\n",
      "32/32 [==============================] - 0s 3ms/step - loss: 0.2594 - accuracy: 0.8953 - val_loss: 0.3730 - val_accuracy: 0.8311\n",
      "Epoch 85/100\n",
      "32/32 [==============================] - 0s 3ms/step - loss: 0.2587 - accuracy: 0.8933 - val_loss: 0.3751 - val_accuracy: 0.8219\n",
      "Epoch 86/100\n",
      "32/32 [==============================] - 0s 3ms/step - loss: 0.2572 - accuracy: 0.8953 - val_loss: 0.3747 - val_accuracy: 0.8219\n",
      "Epoch 87/100\n",
      "32/32 [==============================] - 0s 4ms/step - loss: 0.2561 - accuracy: 0.8943 - val_loss: 0.3731 - val_accuracy: 0.8219\n",
      "Epoch 88/100\n",
      "32/32 [==============================] - 0s 3ms/step - loss: 0.2554 - accuracy: 0.8933 - val_loss: 0.3741 - val_accuracy: 0.8265\n",
      "Epoch 89/100\n",
      "32/32 [==============================] - 0s 3ms/step - loss: 0.2547 - accuracy: 0.8963 - val_loss: 0.3723 - val_accuracy: 0.8265\n",
      "Epoch 90/100\n",
      "32/32 [==============================] - 0s 3ms/step - loss: 0.2535 - accuracy: 0.8973 - val_loss: 0.3740 - val_accuracy: 0.8265\n",
      "Epoch 91/100\n",
      "32/32 [==============================] - 0s 2ms/step - loss: 0.2527 - accuracy: 0.8963 - val_loss: 0.3725 - val_accuracy: 0.8265\n",
      "Epoch 92/100\n",
      "32/32 [==============================] - 0s 3ms/step - loss: 0.2513 - accuracy: 0.8963 - val_loss: 0.3715 - val_accuracy: 0.8311\n",
      "Epoch 93/100\n",
      "32/32 [==============================] - 0s 4ms/step - loss: 0.2510 - accuracy: 0.8973 - val_loss: 0.3715 - val_accuracy: 0.8356\n",
      "Epoch 94/100\n",
      "32/32 [==============================] - 0s 3ms/step - loss: 0.2494 - accuracy: 0.8963 - val_loss: 0.3677 - val_accuracy: 0.8493\n",
      "Epoch 95/100\n",
      "32/32 [==============================] - 0s 2ms/step - loss: 0.2496 - accuracy: 0.8982 - val_loss: 0.3694 - val_accuracy: 0.8311\n",
      "Epoch 96/100\n",
      "32/32 [==============================] - 0s 3ms/step - loss: 0.2484 - accuracy: 0.8963 - val_loss: 0.3728 - val_accuracy: 0.8219\n",
      "Epoch 97/100\n",
      "32/32 [==============================] - 0s 4ms/step - loss: 0.2481 - accuracy: 0.8992 - val_loss: 0.3726 - val_accuracy: 0.8219\n",
      "Epoch 98/100\n",
      "32/32 [==============================] - 0s 4ms/step - loss: 0.2468 - accuracy: 0.8992 - val_loss: 0.3675 - val_accuracy: 0.8402\n",
      "Epoch 99/100\n",
      "32/32 [==============================] - 0s 4ms/step - loss: 0.2459 - accuracy: 0.8973 - val_loss: 0.3692 - val_accuracy: 0.8356\n",
      "Epoch 100/100\n",
      "32/32 [==============================] - 0s 4ms/step - loss: 0.2450 - accuracy: 0.8992 - val_loss: 0.3700 - val_accuracy: 0.8356\n"
     ]
    }
   ],
   "source": [
    "hist = model.fit(X_train, Y_train,\n",
    "          batch_size=32, epochs=100,\n",
    "          validation_data=(X_val, Y_val))"
   ]
  },
  {
   "cell_type": "markdown",
   "metadata": {},
   "source": [
    "Evaluating our data on the test set:"
   ]
  },
  {
   "cell_type": "code",
   "execution_count": 19,
   "metadata": {},
   "outputs": [
    {
     "name": "stdout",
     "output_type": "stream",
     "text": [
      "7/7 [==============================] - 0s 2ms/step - loss: 0.3050 - accuracy: 0.8858\n"
     ]
    },
    {
     "data": {
      "text/plain": [
       "0.8858447670936584"
      ]
     },
     "execution_count": 19,
     "metadata": {},
     "output_type": "execute_result"
    }
   ],
   "source": [
    "model.evaluate(X_test, Y_test)[1]"
   ]
  },
  {
   "cell_type": "markdown",
   "metadata": {},
   "source": [
    "# Visualizing Loss and Accuracy"
   ]
  },
  {
   "cell_type": "markdown",
   "metadata": {},
   "source": [
    "Import the relevant package we need to do the visualization"
   ]
  },
  {
   "cell_type": "code",
   "execution_count": 20,
   "metadata": {},
   "outputs": [],
   "source": [
    "import matplotlib.pyplot as plt"
   ]
  },
  {
   "cell_type": "code",
   "execution_count": 22,
   "metadata": {},
   "outputs": [],
   "source": [
    "%matplotlib inline"
   ]
  },
  {
   "cell_type": "markdown",
   "metadata": {},
   "source": [
    "We want to visualize the training loss and the validation loss like this:"
   ]
  },
  {
   "cell_type": "code",
   "execution_count": 23,
   "metadata": {},
   "outputs": [
    {
     "data": {
      "image/png": "[encoded data removed]",
      "text/plain": [
       "<Figure size 432x288 with 1 Axes>"
      ]
     },
     "metadata": {
      "needs_background": "light"
     },
     "output_type": "display_data"
    }
   ],
   "source": [
    "plt.plot(hist.history['loss'])\n",
    "plt.plot(hist.history['val_loss'])\n",
    "plt.title('Model loss')\n",
    "plt.ylabel('Loss')\n",
    "plt.xlabel('Epoch')\n",
    "plt.legend(['Train', 'Val'], loc='upper right')\n",
    "plt.show()"
   ]
  },
  {
   "cell_type": "markdown",
   "metadata": {},
   "source": [
    "We can also visualize the training accuracy and the validation accuracy like this:"
   ]
  },
  {
   "cell_type": "code",
   "execution_count": 33,
   "metadata": {},
   "outputs": [
    {
     "data": {
      "image/png": "[encoded data removed]",
      "text/plain": [
       "<Figure size 432x288 with 1 Axes>"
      ]
     },
     "metadata": {
      "needs_background": "light"
     },
     "output_type": "display_data"
    }
   ],
   "source": [
    "plt.plot(hist.history['accuracy'])\n",
    "plt.plot(hist.history['val_accuracy'])\n",
    "plt.title('Model accuracy')\n",
    "plt.ylabel('Accuracy')\n",
    "plt.xlabel('Epoch')\n",
    "plt.legend(['Train', 'Val'], loc='lower right')\n",
    "plt.show()"
   ]
  },
  {
   "cell_type": "markdown",
   "metadata": {},
   "source": [
    "# Adding Regularization to our Neural Network"
   ]
  },
  {
   "cell_type": "markdown",
   "metadata": {},
   "source": [
    "We'll train a model which will overfit, which we call Model 2. This might take a few minutes."
   ]
  },
  {
   "cell_type": "code",
   "execution_count": 34,
   "metadata": {},
   "outputs": [
    {
     "name": "stdout",
     "output_type": "stream",
     "text": [
      "Epoch 1/100\n",
      "32/32 [==============================] - 3s 108ms/step - loss: 0.4259 - accuracy: 0.8004 - val_loss: 0.4479 - val_accuracy: 0.8082\n",
      "Epoch 2/100\n",
      "32/32 [==============================] - 3s 106ms/step - loss: 0.3103 - accuracy: 0.8679 - val_loss: 0.5143 - val_accuracy: 0.8082\n",
      "Epoch 3/100\n",
      "32/32 [==============================] - 3s 106ms/step - loss: 0.2843 - accuracy: 0.8787 - val_loss: 0.4845 - val_accuracy: 0.8219\n",
      "Epoch 4/100\n",
      "32/32 [==============================] - 3s 106ms/step - loss: 0.2749 - accuracy: 0.8796 - val_loss: 0.4105 - val_accuracy: 0.8447\n",
      "Epoch 5/100\n",
      "32/32 [==============================] - 3s 106ms/step - loss: 0.2301 - accuracy: 0.9041 - val_loss: 0.5201 - val_accuracy: 0.8037\n",
      "Epoch 6/100\n",
      "32/32 [==============================] - 3s 106ms/step - loss: 0.2409 - accuracy: 0.9002 - val_loss: 0.4216 - val_accuracy: 0.8311\n",
      "Epoch 7/100\n",
      "32/32 [==============================] - 3s 105ms/step - loss: 0.2054 - accuracy: 0.9119 - val_loss: 0.4106 - val_accuracy: 0.8356\n",
      "Epoch 8/100\n",
      "32/32 [==============================] - 3s 107ms/step - loss: 0.2185 - accuracy: 0.9022 - val_loss: 0.4543 - val_accuracy: 0.8493\n",
      "Epoch 9/100\n",
      "32/32 [==============================] - 3s 107ms/step - loss: 0.2040 - accuracy: 0.9100 - val_loss: 0.4624 - val_accuracy: 0.8356\n",
      "Epoch 10/100\n",
      "32/32 [==============================] - 3s 107ms/step - loss: 0.1923 - accuracy: 0.9237 - val_loss: 0.4851 - val_accuracy: 0.8402\n",
      "Epoch 11/100\n",
      "32/32 [==============================] - 3s 106ms/step - loss: 0.2108 - accuracy: 0.9129 - val_loss: 0.4136 - val_accuracy: 0.8584\n",
      "Epoch 12/100\n",
      "32/32 [==============================] - 3s 107ms/step - loss: 0.2095 - accuracy: 0.9149 - val_loss: 0.4421 - val_accuracy: 0.8356\n",
      "Epoch 13/100\n",
      "32/32 [==============================] - 3s 107ms/step - loss: 0.1897 - accuracy: 0.9198 - val_loss: 0.4759 - val_accuracy: 0.8219\n",
      "Epoch 14/100\n",
      "32/32 [==============================] - 3s 108ms/step - loss: 0.1870 - accuracy: 0.9247 - val_loss: 0.4483 - val_accuracy: 0.8311\n",
      "Epoch 15/100\n",
      "32/32 [==============================] - 3s 108ms/step - loss: 0.1865 - accuracy: 0.9247 - val_loss: 0.4713 - val_accuracy: 0.8311\n",
      "Epoch 16/100\n",
      "32/32 [==============================] - 3s 107ms/step - loss: 0.1699 - accuracy: 0.9227 - val_loss: 0.6251 - val_accuracy: 0.8402\n",
      "Epoch 17/100\n",
      "32/32 [==============================] - 3s 107ms/step - loss: 0.1788 - accuracy: 0.9237 - val_loss: 0.5055 - val_accuracy: 0.8311\n",
      "Epoch 18/100\n",
      "32/32 [==============================] - 4s 114ms/step - loss: 0.1684 - accuracy: 0.9227 - val_loss: 0.5012 - val_accuracy: 0.8493\n",
      "Epoch 19/100\n",
      "32/32 [==============================] - 3s 109ms/step - loss: 0.1591 - accuracy: 0.9344 - val_loss: 0.5549 - val_accuracy: 0.8219\n",
      "Epoch 20/100\n",
      "32/32 [==============================] - 4s 124ms/step - loss: 0.1611 - accuracy: 0.9325 - val_loss: 0.5129 - val_accuracy: 0.8630\n",
      "Epoch 21/100\n",
      "32/32 [==============================] - 4s 112ms/step - loss: 0.1688 - accuracy: 0.9305 - val_loss: 0.5249 - val_accuracy: 0.8630\n",
      "Epoch 22/100\n",
      "32/32 [==============================] - 4s 114ms/step - loss: 0.1618 - accuracy: 0.9325 - val_loss: 0.4923 - val_accuracy: 0.8265\n",
      "Epoch 23/100\n",
      "32/32 [==============================] - 4s 110ms/step - loss: 0.1548 - accuracy: 0.9403 - val_loss: 0.5488 - val_accuracy: 0.8402\n",
      "Epoch 24/100\n",
      "32/32 [==============================] - 4s 110ms/step - loss: 0.1692 - accuracy: 0.9256 - val_loss: 0.6757 - val_accuracy: 0.8082\n",
      "Epoch 25/100\n",
      "32/32 [==============================] - 4s 111ms/step - loss: 0.1612 - accuracy: 0.9286 - val_loss: 0.5858 - val_accuracy: 0.8447\n",
      "Epoch 26/100\n",
      "32/32 [==============================] - 4s 111ms/step - loss: 0.1576 - accuracy: 0.9374 - val_loss: 0.6584 - val_accuracy: 0.8539\n",
      "Epoch 27/100\n",
      "32/32 [==============================] - 4s 113ms/step - loss: 0.1646 - accuracy: 0.9344 - val_loss: 0.5475 - val_accuracy: 0.8539\n",
      "Epoch 28/100\n",
      "32/32 [==============================] - 4s 110ms/step - loss: 0.1565 - accuracy: 0.9325 - val_loss: 0.5540 - val_accuracy: 0.8356\n",
      "Epoch 29/100\n",
      "32/32 [==============================] - 4s 115ms/step - loss: 0.1550 - accuracy: 0.9335 - val_loss: 0.7158 - val_accuracy: 0.8311\n",
      "Epoch 30/100\n",
      "32/32 [==============================] - 4s 117ms/step - loss: 0.2018 - accuracy: 0.9031 - val_loss: 0.5484 - val_accuracy: 0.8584\n",
      "Epoch 31/100\n",
      "32/32 [==============================] - 4s 114ms/step - loss: 0.1596 - accuracy: 0.9305 - val_loss: 0.5827 - val_accuracy: 0.8493\n",
      "Epoch 32/100\n",
      "32/32 [==============================] - 3s 109ms/step - loss: 0.1656 - accuracy: 0.9305 - val_loss: 0.6321 - val_accuracy: 0.8493\n",
      "Epoch 33/100\n",
      "32/32 [==============================] - 3s 109ms/step - loss: 0.1487 - accuracy: 0.9364 - val_loss: 0.5722 - val_accuracy: 0.8402\n",
      "Epoch 34/100\n",
      "32/32 [==============================] - 3s 109ms/step - loss: 0.1593 - accuracy: 0.9305 - val_loss: 0.6616 - val_accuracy: 0.8128\n",
      "Epoch 35/100\n",
      "32/32 [==============================] - 4s 110ms/step - loss: 0.1591 - accuracy: 0.9354 - val_loss: 0.6486 - val_accuracy: 0.8128\n",
      "Epoch 36/100\n",
      "32/32 [==============================] - 4s 110ms/step - loss: 0.1532 - accuracy: 0.9256 - val_loss: 0.6390 - val_accuracy: 0.8402\n",
      "Epoch 37/100\n",
      "32/32 [==============================] - 4s 109ms/step - loss: 0.1467 - accuracy: 0.9413 - val_loss: 0.5832 - val_accuracy: 0.8356\n",
      "Epoch 38/100\n",
      "32/32 [==============================] - 4s 110ms/step - loss: 0.1559 - accuracy: 0.9305 - val_loss: 0.6016 - val_accuracy: 0.8767\n",
      "Epoch 39/100\n",
      "32/32 [==============================] - 3s 109ms/step - loss: 0.1874 - accuracy: 0.9207 - val_loss: 0.4800 - val_accuracy: 0.8447\n",
      "Epoch 40/100\n",
      "32/32 [==============================] - 3s 109ms/step - loss: 0.1470 - accuracy: 0.9364 - val_loss: 0.6370 - val_accuracy: 0.8447\n",
      "Epoch 41/100\n",
      "32/32 [==============================] - 4s 110ms/step - loss: 0.1603 - accuracy: 0.9344 - val_loss: 0.5874 - val_accuracy: 0.8311\n",
      "Epoch 42/100\n",
      "32/32 [==============================] - 3s 109ms/step - loss: 0.1446 - accuracy: 0.9452 - val_loss: 0.6149 - val_accuracy: 0.8539\n",
      "Epoch 43/100\n",
      "32/32 [==============================] - 3s 109ms/step - loss: 0.1521 - accuracy: 0.9354 - val_loss: 0.6300 - val_accuracy: 0.8539\n",
      "Epoch 44/100\n",
      "32/32 [==============================] - 3s 109ms/step - loss: 0.1605 - accuracy: 0.9364 - val_loss: 0.6387 - val_accuracy: 0.8402\n",
      "Epoch 45/100\n",
      "32/32 [==============================] - 3s 109ms/step - loss: 0.1412 - accuracy: 0.9423 - val_loss: 0.6667 - val_accuracy: 0.8584\n",
      "Epoch 46/100\n",
      "32/32 [==============================] - 4s 110ms/step - loss: 0.1604 - accuracy: 0.9364 - val_loss: 0.5093 - val_accuracy: 0.8356\n",
      "Epoch 47/100\n",
      "32/32 [==============================] - 4s 110ms/step - loss: 0.1336 - accuracy: 0.9432 - val_loss: 0.7513 - val_accuracy: 0.8037\n",
      "Epoch 48/100\n",
      "32/32 [==============================] - 4s 115ms/step - loss: 0.1502 - accuracy: 0.9325 - val_loss: 0.6490 - val_accuracy: 0.8265\n",
      "Epoch 49/100\n",
      "32/32 [==============================] - 3s 109ms/step - loss: 0.1693 - accuracy: 0.9286 - val_loss: 0.5379 - val_accuracy: 0.8356\n",
      "Epoch 50/100\n",
      "32/32 [==============================] - 3s 108ms/step - loss: 0.1798 - accuracy: 0.9159 - val_loss: 0.5864 - val_accuracy: 0.8447\n",
      "Epoch 51/100\n",
      "32/32 [==============================] - 3s 108ms/step - loss: 0.1505 - accuracy: 0.9305 - val_loss: 0.6586 - val_accuracy: 0.8356\n",
      "Epoch 52/100\n",
      "32/32 [==============================] - 4s 110ms/step - loss: 0.1436 - accuracy: 0.9344 - val_loss: 0.6262 - val_accuracy: 0.8265\n",
      "Epoch 53/100\n",
      "32/32 [==============================] - 3s 108ms/step - loss: 0.1326 - accuracy: 0.9423 - val_loss: 0.6873 - val_accuracy: 0.8311\n",
      "Epoch 54/100\n",
      "32/32 [==============================] - 3s 109ms/step - loss: 0.1466 - accuracy: 0.9374 - val_loss: 0.5847 - val_accuracy: 0.8311\n",
      "Epoch 55/100\n",
      "32/32 [==============================] - 4s 112ms/step - loss: 0.1500 - accuracy: 0.9442 - val_loss: 0.6702 - val_accuracy: 0.8447\n",
      "Epoch 56/100\n",
      "32/32 [==============================] - 4s 116ms/step - loss: 0.1483 - accuracy: 0.9403 - val_loss: 0.7804 - val_accuracy: 0.8128\n",
      "Epoch 57/100\n",
      "32/32 [==============================] - 3s 109ms/step - loss: 0.2011 - accuracy: 0.9031 - val_loss: 0.6142 - val_accuracy: 0.8311\n",
      "Epoch 58/100\n",
      "32/32 [==============================] - 4s 110ms/step - loss: 0.1454 - accuracy: 0.9354 - val_loss: 0.7172 - val_accuracy: 0.8584\n",
      "Epoch 59/100\n",
      "32/32 [==============================] - 3s 109ms/step - loss: 0.1249 - accuracy: 0.9472 - val_loss: 0.7292 - val_accuracy: 0.8402\n",
      "Epoch 60/100\n",
      "32/32 [==============================] - 4s 110ms/step - loss: 0.1264 - accuracy: 0.9413 - val_loss: 0.7716 - val_accuracy: 0.8447\n",
      "Epoch 61/100\n",
      "32/32 [==============================] - 3s 109ms/step - loss: 0.1234 - accuracy: 0.9521 - val_loss: 0.7362 - val_accuracy: 0.8493\n",
      "Epoch 62/100\n",
      "32/32 [==============================] - 3s 109ms/step - loss: 0.1393 - accuracy: 0.9384 - val_loss: 0.6774 - val_accuracy: 0.8447\n",
      "Epoch 63/100\n",
      "32/32 [==============================] - 4s 111ms/step - loss: 0.1115 - accuracy: 0.9501 - val_loss: 0.7769 - val_accuracy: 0.8539\n",
      "Epoch 64/100\n",
      "32/32 [==============================] - 4s 111ms/step - loss: 0.1176 - accuracy: 0.9481 - val_loss: 0.7732 - val_accuracy: 0.8356\n",
      "Epoch 65/100\n",
      "32/32 [==============================] - 4s 110ms/step - loss: 0.1414 - accuracy: 0.9393 - val_loss: 0.7454 - val_accuracy: 0.8447\n",
      "Epoch 66/100\n",
      "32/32 [==============================] - 4s 112ms/step - loss: 0.1583 - accuracy: 0.9344 - val_loss: 0.6294 - val_accuracy: 0.8584\n",
      "Epoch 67/100\n",
      "32/32 [==============================] - 4s 111ms/step - loss: 0.1245 - accuracy: 0.9540 - val_loss: 0.7970 - val_accuracy: 0.8493\n",
      "Epoch 68/100\n",
      "32/32 [==============================] - 4s 110ms/step - loss: 0.1097 - accuracy: 0.9511 - val_loss: 0.7962 - val_accuracy: 0.8630\n",
      "Epoch 69/100\n",
      "32/32 [==============================] - 3s 108ms/step - loss: 0.1109 - accuracy: 0.9462 - val_loss: 0.7557 - val_accuracy: 0.8630\n",
      "Epoch 70/100\n",
      "32/32 [==============================] - 4s 111ms/step - loss: 0.1132 - accuracy: 0.9511 - val_loss: 0.8359 - val_accuracy: 0.8402\n",
      "Epoch 71/100\n",
      "32/32 [==============================] - 4s 110ms/step - loss: 0.1274 - accuracy: 0.9423 - val_loss: 0.7487 - val_accuracy: 0.8584\n",
      "Epoch 72/100\n",
      "32/32 [==============================] - 3s 109ms/step - loss: 0.1207 - accuracy: 0.9462 - val_loss: 0.7851 - val_accuracy: 0.8402\n",
      "Epoch 73/100\n",
      "32/32 [==============================] - 3s 109ms/step - loss: 0.1113 - accuracy: 0.9521 - val_loss: 0.8053 - val_accuracy: 0.8493\n",
      "Epoch 74/100\n",
      "32/32 [==============================] - 4s 113ms/step - loss: 0.1242 - accuracy: 0.9481 - val_loss: 1.0854 - val_accuracy: 0.8402\n",
      "Epoch 75/100\n",
      "32/32 [==============================] - 3s 109ms/step - loss: 0.1213 - accuracy: 0.9481 - val_loss: 0.8357 - val_accuracy: 0.8402\n",
      "Epoch 76/100\n",
      "32/32 [==============================] - 3s 109ms/step - loss: 0.1183 - accuracy: 0.9550 - val_loss: 0.9020 - val_accuracy: 0.8539\n",
      "Epoch 77/100\n",
      "32/32 [==============================] - 3s 109ms/step - loss: 0.1060 - accuracy: 0.9481 - val_loss: 0.8739 - val_accuracy: 0.8493\n",
      "Epoch 78/100\n",
      "32/32 [==============================] - 3s 109ms/step - loss: 0.1064 - accuracy: 0.9550 - val_loss: 0.8816 - val_accuracy: 0.8447\n",
      "Epoch 79/100\n",
      "32/32 [==============================] - 4s 110ms/step - loss: 0.1040 - accuracy: 0.9530 - val_loss: 1.0014 - val_accuracy: 0.8447\n",
      "Epoch 80/100\n",
      "32/32 [==============================] - 3s 109ms/step - loss: 0.1143 - accuracy: 0.9511 - val_loss: 0.8789 - val_accuracy: 0.8539\n",
      "Epoch 81/100\n",
      "32/32 [==============================] - 4s 110ms/step - loss: 0.1196 - accuracy: 0.9472 - val_loss: 0.8261 - val_accuracy: 0.8447\n",
      "Epoch 82/100\n",
      "32/32 [==============================] - 3s 108ms/step - loss: 0.1309 - accuracy: 0.9442 - val_loss: 0.8405 - val_accuracy: 0.8447\n",
      "Epoch 83/100\n",
      "32/32 [==============================] - 3s 109ms/step - loss: 0.0992 - accuracy: 0.9579 - val_loss: 1.0359 - val_accuracy: 0.8584\n",
      "Epoch 84/100\n",
      "32/32 [==============================] - 3s 107ms/step - loss: 0.1408 - accuracy: 0.9442 - val_loss: 0.7270 - val_accuracy: 0.8630\n",
      "Epoch 85/100\n",
      "32/32 [==============================] - 4s 110ms/step - loss: 0.1275 - accuracy: 0.9491 - val_loss: 0.7365 - val_accuracy: 0.8447\n",
      "Epoch 86/100\n",
      "32/32 [==============================] - 3s 107ms/step - loss: 0.1078 - accuracy: 0.9569 - val_loss: 0.9801 - val_accuracy: 0.8630\n",
      "Epoch 87/100\n",
      "32/32 [==============================] - 3s 107ms/step - loss: 0.1024 - accuracy: 0.9550 - val_loss: 0.9051 - val_accuracy: 0.8447\n",
      "Epoch 88/100\n",
      "32/32 [==============================] - 3s 109ms/step - loss: 0.1214 - accuracy: 0.9501 - val_loss: 1.1243 - val_accuracy: 0.8311\n",
      "Epoch 89/100\n",
      "32/32 [==============================] - 3s 107ms/step - loss: 0.1307 - accuracy: 0.9511 - val_loss: 0.8771 - val_accuracy: 0.8402\n",
      "Epoch 90/100\n",
      "32/32 [==============================] - 4s 110ms/step - loss: 0.1108 - accuracy: 0.9530 - val_loss: 0.8426 - val_accuracy: 0.8630\n",
      "Epoch 91/100\n",
      "32/32 [==============================] - 3s 109ms/step - loss: 0.1008 - accuracy: 0.9589 - val_loss: 1.0226 - val_accuracy: 0.8356\n",
      "Epoch 92/100\n",
      "32/32 [==============================] - 3s 108ms/step - loss: 0.0934 - accuracy: 0.9569 - val_loss: 1.0841 - val_accuracy: 0.8447\n",
      "Epoch 93/100\n",
      "32/32 [==============================] - 3s 109ms/step - loss: 0.1101 - accuracy: 0.9550 - val_loss: 0.8761 - val_accuracy: 0.8447\n",
      "Epoch 94/100\n",
      "32/32 [==============================] - 3s 108ms/step - loss: 0.0999 - accuracy: 0.9579 - val_loss: 0.8676 - val_accuracy: 0.8356\n",
      "Epoch 95/100\n",
      "32/32 [==============================] - 3s 108ms/step - loss: 0.0991 - accuracy: 0.9560 - val_loss: 0.8226 - val_accuracy: 0.8493\n",
      "Epoch 96/100\n",
      "32/32 [==============================] - 4s 111ms/step - loss: 0.0793 - accuracy: 0.9687 - val_loss: 1.1675 - val_accuracy: 0.8447\n",
      "Epoch 97/100\n",
      "32/32 [==============================] - 3s 109ms/step - loss: 0.0831 - accuracy: 0.9628 - val_loss: 1.0682 - val_accuracy: 0.8356\n",
      "Epoch 98/100\n",
      "32/32 [==============================] - 3s 108ms/step - loss: 0.0931 - accuracy: 0.9609 - val_loss: 1.1125 - val_accuracy: 0.8402\n",
      "Epoch 99/100\n",
      "32/32 [==============================] - 4s 110ms/step - loss: 0.0929 - accuracy: 0.9638 - val_loss: 1.0220 - val_accuracy: 0.8539\n",
      "Epoch 100/100\n",
      "32/32 [==============================] - 3s 109ms/step - loss: 0.1026 - accuracy: 0.9569 - val_loss: 0.8549 - val_accuracy: 0.8584\n"
     ]
    }
   ],
   "source": [
    "model_2 = Sequential([\n",
    "    Dense(1000, activation='relu', input_shape=(10,)),\n",
    "    Dense(1000, activation='relu'),\n",
    "    Dense(1000, activation='relu'),\n",
    "    Dense(1000, activation='relu'),\n",
    "    Dense(1, activation='sigmoid'),\n",
    "])\n",
    "model_2.compile(optimizer='adam',\n",
    "              loss='binary_crossentropy',\n",
    "              metrics=['accuracy'])\n",
    "hist_2 = model_2.fit(X_train, Y_train,\n",
    "          batch_size=32, epochs=100,\n",
    "          validation_data=(X_val, Y_val))"
   ]
  },
  {
   "cell_type": "markdown",
   "metadata": {},
   "source": [
    "Let's do the same visualization to see what overfitting looks like in terms of the loss and accuracy."
   ]
  },
  {
   "cell_type": "code",
   "execution_count": 35,
   "metadata": {},
   "outputs": [
    {
     "data": {
      "image/png": "[encoded data removed]",
      "text/plain": [
       "<Figure size 432x288 with 1 Axes>"
      ]
     },
     "metadata": {
      "needs_background": "light"
     },
     "output_type": "display_data"
    }
   ],
   "source": [
    "plt.plot(hist_2.history['loss'])\n",
    "plt.plot(hist_2.history['val_loss'])\n",
    "plt.title('Model loss')\n",
    "plt.ylabel('Loss')\n",
    "plt.xlabel('Epoch')\n",
    "plt.legend(['Train', 'Val'], loc='upper right')\n",
    "plt.show()"
   ]
  },
  {
   "cell_type": "code",
   "execution_count": 36,
   "metadata": {},
   "outputs": [
    {
     "data": {
      "image/png": "[encoded data removed]",
      "text/plain": [
       "<Figure size 432x288 with 1 Axes>"
      ]
     },
     "metadata": {
      "needs_background": "light"
     },
     "output_type": "display_data"
    }
   ],
   "source": [
    "plt.plot(hist_2.history['accuracy'])\n",
    "plt.plot(hist_2.history['val_accuracy'])\n",
    "plt.title('Model accuracy')\n",
    "plt.ylabel('Accuracy')\n",
    "plt.xlabel('Epoch')\n",
    "plt.legend(['Train', 'Val'], loc='lower right')\n",
    "plt.show()"
   ]
  },
  {
   "cell_type": "markdown",
   "metadata": {},
   "source": [
    "To address the overfitting we see in Model 2, we'll incorporate L2 regularization and dropout in our third model here (Model 3)."
   ]
  },
  {
   "cell_type": "code",
   "execution_count": 37,
   "metadata": {},
   "outputs": [],
   "source": [
    "from tensorflow.keras.layers import Dropout\n",
    "from tensorflow.keras import regularizers"
   ]
  },
  {
   "cell_type": "code",
   "execution_count": 38,
   "metadata": {},
   "outputs": [],
   "source": [
    "model_3 = Sequential([\n",
    "    Dense(1000, activation='relu', kernel_regularizer=regularizers.l2(0.01), input_shape=(10,)),\n",
    "    Dropout(0.3),\n",
    "    Dense(1000, activation='relu', kernel_regularizer=regularizers.l2(0.01)),\n",
    "    Dropout(0.3),\n",
    "    Dense(1000, activation='relu', kernel_regularizer=regularizers.l2(0.01)),\n",
    "    Dropout(0.3),\n",
    "    Dense(1000, activation='relu', kernel_regularizer=regularizers.l2(0.01)),\n",
    "    Dropout(0.3),\n",
    "    Dense(1, activation='sigmoid', kernel_regularizer=regularizers.l2(0.01)),\n",
    "])"
   ]
  },
  {
   "cell_type": "code",
   "execution_count": 39,
   "metadata": {},
   "outputs": [
    {
     "name": "stdout",
     "output_type": "stream",
     "text": [
      "Epoch 1/100\n",
      "32/32 [==============================] - 4s 126ms/step - loss: 14.2364 - accuracy: 0.6145 - val_loss: 3.8983 - val_accuracy: 0.7580\n",
      "Epoch 2/100\n",
      "32/32 [==============================] - 4s 119ms/step - loss: 1.6515 - accuracy: 0.8464 - val_loss: 0.7231 - val_accuracy: 0.8082\n",
      "Epoch 3/100\n",
      "32/32 [==============================] - 4s 121ms/step - loss: 0.5841 - accuracy: 0.8581 - val_loss: 0.6326 - val_accuracy: 0.7991\n",
      "Epoch 4/100\n",
      "32/32 [==============================] - 4s 122ms/step - loss: 0.4995 - accuracy: 0.8708 - val_loss: 0.5632 - val_accuracy: 0.8174\n",
      "Epoch 5/100\n",
      "32/32 [==============================] - 4s 118ms/step - loss: 0.4989 - accuracy: 0.8571 - val_loss: 0.6416 - val_accuracy: 0.8037\n",
      "Epoch 6/100\n",
      "32/32 [==============================] - 4s 119ms/step - loss: 0.4619 - accuracy: 0.8885 - val_loss: 0.5550 - val_accuracy: 0.8174\n",
      "Epoch 7/100\n",
      "32/32 [==============================] - 4s 120ms/step - loss: 0.4464 - accuracy: 0.8894 - val_loss: 0.6318 - val_accuracy: 0.8174\n",
      "Epoch 8/100\n",
      "32/32 [==============================] - 4s 119ms/step - loss: 0.4598 - accuracy: 0.8836 - val_loss: 0.5191 - val_accuracy: 0.8493\n",
      "Epoch 9/100\n",
      "32/32 [==============================] - 4s 120ms/step - loss: 0.4503 - accuracy: 0.8738 - val_loss: 0.6591 - val_accuracy: 0.7991\n",
      "Epoch 10/100\n",
      "32/32 [==============================] - 4s 119ms/step - loss: 0.4483 - accuracy: 0.8816 - val_loss: 0.5155 - val_accuracy: 0.8584\n",
      "Epoch 11/100\n",
      "32/32 [==============================] - 4s 120ms/step - loss: 0.4451 - accuracy: 0.8816 - val_loss: 0.5373 - val_accuracy: 0.8402\n",
      "Epoch 12/100\n",
      "32/32 [==============================] - 4s 120ms/step - loss: 0.4221 - accuracy: 0.8894 - val_loss: 0.5407 - val_accuracy: 0.8493\n",
      "Epoch 13/100\n",
      "32/32 [==============================] - 4s 120ms/step - loss: 0.4192 - accuracy: 0.8963 - val_loss: 0.5968 - val_accuracy: 0.8128\n",
      "Epoch 14/100\n",
      "32/32 [==============================] - 4s 120ms/step - loss: 0.4404 - accuracy: 0.8904 - val_loss: 0.5112 - val_accuracy: 0.8584\n",
      "Epoch 15/100\n",
      "32/32 [==============================] - 4s 120ms/step - loss: 0.4196 - accuracy: 0.8963 - val_loss: 0.5125 - val_accuracy: 0.8539\n",
      "Epoch 16/100\n",
      "32/32 [==============================] - 4s 125ms/step - loss: 0.4265 - accuracy: 0.8904 - val_loss: 0.5415 - val_accuracy: 0.8493\n",
      "Epoch 17/100\n",
      "32/32 [==============================] - 4s 120ms/step - loss: 0.4112 - accuracy: 0.9031 - val_loss: 0.5639 - val_accuracy: 0.8402\n",
      "Epoch 18/100\n",
      "32/32 [==============================] - 4s 119ms/step - loss: 0.4207 - accuracy: 0.8845 - val_loss: 0.5265 - val_accuracy: 0.8356\n",
      "Epoch 19/100\n",
      "32/32 [==============================] - 4s 121ms/step - loss: 0.4236 - accuracy: 0.8924 - val_loss: 0.5278 - val_accuracy: 0.8219\n",
      "Epoch 20/100\n",
      "32/32 [==============================] - 4s 122ms/step - loss: 0.4242 - accuracy: 0.9002 - val_loss: 0.5124 - val_accuracy: 0.8447\n",
      "Epoch 21/100\n",
      "32/32 [==============================] - 4s 119ms/step - loss: 0.4061 - accuracy: 0.9002 - val_loss: 0.5281 - val_accuracy: 0.8447\n",
      "Epoch 22/100\n",
      "32/32 [==============================] - 4s 120ms/step - loss: 0.4156 - accuracy: 0.8982 - val_loss: 0.5189 - val_accuracy: 0.8219\n",
      "Epoch 23/100\n",
      "32/32 [==============================] - 4s 120ms/step - loss: 0.4245 - accuracy: 0.9031 - val_loss: 0.6067 - val_accuracy: 0.8402\n",
      "Epoch 24/100\n",
      "32/32 [==============================] - 4s 120ms/step - loss: 0.4289 - accuracy: 0.8816 - val_loss: 0.5286 - val_accuracy: 0.8402\n",
      "Epoch 25/100\n",
      "32/32 [==============================] - 4s 121ms/step - loss: 0.4124 - accuracy: 0.9002 - val_loss: 0.5377 - val_accuracy: 0.8128\n",
      "Epoch 26/100\n",
      "32/32 [==============================] - 4s 121ms/step - loss: 0.4636 - accuracy: 0.8620 - val_loss: 0.5475 - val_accuracy: 0.8219\n",
      "Epoch 27/100\n",
      "32/32 [==============================] - 4s 120ms/step - loss: 0.4306 - accuracy: 0.8865 - val_loss: 0.5070 - val_accuracy: 0.8539\n",
      "Epoch 28/100\n",
      "32/32 [==============================] - 4s 121ms/step - loss: 0.4055 - accuracy: 0.8943 - val_loss: 0.5039 - val_accuracy: 0.8447\n",
      "Epoch 29/100\n",
      "32/32 [==============================] - 4s 121ms/step - loss: 0.4261 - accuracy: 0.8787 - val_loss: 0.5978 - val_accuracy: 0.8402\n",
      "Epoch 30/100\n",
      "32/32 [==============================] - 4s 123ms/step - loss: 0.4049 - accuracy: 0.8982 - val_loss: 0.5139 - val_accuracy: 0.8493\n",
      "Epoch 31/100\n",
      "32/32 [==============================] - 4s 120ms/step - loss: 0.4119 - accuracy: 0.8963 - val_loss: 0.5316 - val_accuracy: 0.8402\n",
      "Epoch 32/100\n",
      "32/32 [==============================] - 4s 121ms/step - loss: 0.4088 - accuracy: 0.8904 - val_loss: 0.5124 - val_accuracy: 0.8539\n",
      "Epoch 33/100\n",
      "32/32 [==============================] - 4s 120ms/step - loss: 0.4126 - accuracy: 0.8933 - val_loss: 0.5091 - val_accuracy: 0.8584\n",
      "Epoch 34/100\n",
      "32/32 [==============================] - 4s 123ms/step - loss: 0.4065 - accuracy: 0.9051 - val_loss: 0.5151 - val_accuracy: 0.8265\n",
      "Epoch 35/100\n",
      "32/32 [==============================] - 4s 120ms/step - loss: 0.4223 - accuracy: 0.8845 - val_loss: 0.5183 - val_accuracy: 0.8174\n",
      "Epoch 36/100\n",
      "32/32 [==============================] - 4s 119ms/step - loss: 0.4087 - accuracy: 0.9041 - val_loss: 0.5231 - val_accuracy: 0.8356\n",
      "Epoch 37/100\n",
      "32/32 [==============================] - 4s 121ms/step - loss: 0.3977 - accuracy: 0.9051 - val_loss: 0.5081 - val_accuracy: 0.8539\n",
      "Epoch 38/100\n",
      "32/32 [==============================] - 4s 121ms/step - loss: 0.4341 - accuracy: 0.8748 - val_loss: 0.6097 - val_accuracy: 0.8356\n",
      "Epoch 39/100\n",
      "32/32 [==============================] - 4s 119ms/step - loss: 0.4178 - accuracy: 0.8875 - val_loss: 0.5269 - val_accuracy: 0.8447\n",
      "Epoch 40/100\n",
      "32/32 [==============================] - 4s 121ms/step - loss: 0.4059 - accuracy: 0.8973 - val_loss: 0.5092 - val_accuracy: 0.8265\n",
      "Epoch 41/100\n",
      "32/32 [==============================] - 4s 121ms/step - loss: 0.4029 - accuracy: 0.9031 - val_loss: 0.5310 - val_accuracy: 0.8082\n",
      "Epoch 42/100\n",
      "32/32 [==============================] - 4s 121ms/step - loss: 0.4073 - accuracy: 0.8982 - val_loss: 0.5251 - val_accuracy: 0.8356\n",
      "Epoch 43/100\n",
      "32/32 [==============================] - 4s 120ms/step - loss: 0.4211 - accuracy: 0.8836 - val_loss: 0.5107 - val_accuracy: 0.8402\n",
      "Epoch 44/100\n",
      "32/32 [==============================] - 4s 120ms/step - loss: 0.4179 - accuracy: 0.8865 - val_loss: 0.5539 - val_accuracy: 0.8447\n",
      "Epoch 45/100\n",
      "32/32 [==============================] - 4s 121ms/step - loss: 0.3998 - accuracy: 0.8982 - val_loss: 0.5522 - val_accuracy: 0.8447\n",
      "Epoch 46/100\n",
      "32/32 [==============================] - 4s 120ms/step - loss: 0.4063 - accuracy: 0.8953 - val_loss: 0.5718 - val_accuracy: 0.8447\n",
      "Epoch 47/100\n",
      "32/32 [==============================] - 4s 121ms/step - loss: 0.4061 - accuracy: 0.8992 - val_loss: 0.5223 - val_accuracy: 0.8539\n",
      "Epoch 48/100\n",
      "32/32 [==============================] - 4s 120ms/step - loss: 0.3996 - accuracy: 0.8973 - val_loss: 0.5090 - val_accuracy: 0.8447\n",
      "Epoch 49/100\n",
      "32/32 [==============================] - 4s 121ms/step - loss: 0.4082 - accuracy: 0.8894 - val_loss: 0.5100 - val_accuracy: 0.8493\n",
      "Epoch 50/100\n",
      "32/32 [==============================] - 4s 121ms/step - loss: 0.4288 - accuracy: 0.8973 - val_loss: 0.5932 - val_accuracy: 0.8402\n",
      "Epoch 51/100\n",
      "32/32 [==============================] - 4s 120ms/step - loss: 0.4117 - accuracy: 0.9041 - val_loss: 0.6560 - val_accuracy: 0.8265\n",
      "Epoch 52/100\n",
      "32/32 [==============================] - 4s 121ms/step - loss: 0.4338 - accuracy: 0.8894 - val_loss: 0.5071 - val_accuracy: 0.8311\n",
      "Epoch 53/100\n",
      "32/32 [==============================] - 4s 122ms/step - loss: 0.4106 - accuracy: 0.8992 - val_loss: 0.5246 - val_accuracy: 0.8447\n",
      "Epoch 54/100\n",
      "32/32 [==============================] - 4s 122ms/step - loss: 0.3976 - accuracy: 0.8943 - val_loss: 0.5071 - val_accuracy: 0.8493\n",
      "Epoch 55/100\n",
      "32/32 [==============================] - 4s 122ms/step - loss: 0.3968 - accuracy: 0.9041 - val_loss: 0.5169 - val_accuracy: 0.8402\n",
      "Epoch 56/100\n",
      "32/32 [==============================] - 4s 121ms/step - loss: 0.4146 - accuracy: 0.8885 - val_loss: 0.5325 - val_accuracy: 0.8402\n",
      "Epoch 57/100\n",
      "32/32 [==============================] - 4s 121ms/step - loss: 0.4166 - accuracy: 0.8924 - val_loss: 0.5383 - val_accuracy: 0.8447\n",
      "Epoch 58/100\n",
      "32/32 [==============================] - 4s 121ms/step - loss: 0.4167 - accuracy: 0.8943 - val_loss: 0.5090 - val_accuracy: 0.8447\n",
      "Epoch 59/100\n",
      "32/32 [==============================] - 4s 121ms/step - loss: 0.4078 - accuracy: 0.9061 - val_loss: 0.5598 - val_accuracy: 0.8493\n",
      "Epoch 60/100\n",
      "32/32 [==============================] - 4s 122ms/step - loss: 0.4131 - accuracy: 0.8865 - val_loss: 0.6067 - val_accuracy: 0.8402\n",
      "Epoch 61/100\n",
      "32/32 [==============================] - 4s 121ms/step - loss: 0.4225 - accuracy: 0.8806 - val_loss: 0.5047 - val_accuracy: 0.8539\n",
      "Epoch 62/100\n",
      "32/32 [==============================] - 4s 122ms/step - loss: 0.4096 - accuracy: 0.8953 - val_loss: 0.5152 - val_accuracy: 0.8539\n",
      "Epoch 63/100\n",
      "32/32 [==============================] - 4s 121ms/step - loss: 0.3991 - accuracy: 0.8982 - val_loss: 0.5050 - val_accuracy: 0.8447\n",
      "Epoch 64/100\n",
      "32/32 [==============================] - 4s 121ms/step - loss: 0.4120 - accuracy: 0.8924 - val_loss: 0.5246 - val_accuracy: 0.8493\n",
      "Epoch 65/100\n",
      "32/32 [==============================] - 4s 124ms/step - loss: 0.4210 - accuracy: 0.8855 - val_loss: 0.5166 - val_accuracy: 0.8539\n",
      "Epoch 66/100\n",
      "32/32 [==============================] - 4s 122ms/step - loss: 0.4102 - accuracy: 0.8845 - val_loss: 0.5386 - val_accuracy: 0.8356\n",
      "Epoch 67/100\n",
      "32/32 [==============================] - 4s 122ms/step - loss: 0.4012 - accuracy: 0.9002 - val_loss: 0.5336 - val_accuracy: 0.8539\n",
      "Epoch 68/100\n",
      "32/32 [==============================] - 4s 124ms/step - loss: 0.3945 - accuracy: 0.9031 - val_loss: 0.5161 - val_accuracy: 0.8539\n",
      "Epoch 69/100\n",
      "32/32 [==============================] - 4s 125ms/step - loss: 0.4187 - accuracy: 0.8865 - val_loss: 0.5059 - val_accuracy: 0.8493\n",
      "Epoch 70/100\n",
      "32/32 [==============================] - 4s 126ms/step - loss: 0.4019 - accuracy: 0.8963 - val_loss: 0.5588 - val_accuracy: 0.8447\n",
      "Epoch 71/100\n",
      "32/32 [==============================] - 4s 123ms/step - loss: 0.4035 - accuracy: 0.8933 - val_loss: 0.5079 - val_accuracy: 0.8447\n",
      "Epoch 72/100\n",
      "32/32 [==============================] - 4s 123ms/step - loss: 0.4104 - accuracy: 0.8992 - val_loss: 0.5502 - val_accuracy: 0.8447\n",
      "Epoch 73/100\n",
      "32/32 [==============================] - 4s 122ms/step - loss: 0.4164 - accuracy: 0.8894 - val_loss: 0.5160 - val_accuracy: 0.8493\n",
      "Epoch 74/100\n",
      "32/32 [==============================] - 4s 123ms/step - loss: 0.3989 - accuracy: 0.8943 - val_loss: 0.5378 - val_accuracy: 0.8493\n",
      "Epoch 75/100\n",
      "32/32 [==============================] - 4s 122ms/step - loss: 0.4070 - accuracy: 0.8973 - val_loss: 0.5081 - val_accuracy: 0.8265\n",
      "Epoch 76/100\n",
      "32/32 [==============================] - 4s 122ms/step - loss: 0.4052 - accuracy: 0.8982 - val_loss: 0.5089 - val_accuracy: 0.8539\n",
      "Epoch 77/100\n",
      "32/32 [==============================] - 4s 123ms/step - loss: 0.4028 - accuracy: 0.8904 - val_loss: 0.5088 - val_accuracy: 0.8584\n",
      "Epoch 78/100\n",
      "32/32 [==============================] - 4s 122ms/step - loss: 0.4040 - accuracy: 0.8963 - val_loss: 0.5391 - val_accuracy: 0.8447\n",
      "Epoch 79/100\n",
      "32/32 [==============================] - 4s 122ms/step - loss: 0.4011 - accuracy: 0.8904 - val_loss: 0.5563 - val_accuracy: 0.8447\n",
      "Epoch 80/100\n",
      "32/32 [==============================] - 4s 123ms/step - loss: 0.4223 - accuracy: 0.8885 - val_loss: 0.5630 - val_accuracy: 0.8447\n",
      "Epoch 81/100\n",
      "32/32 [==============================] - 4s 123ms/step - loss: 0.4069 - accuracy: 0.8973 - val_loss: 0.5092 - val_accuracy: 0.8493\n",
      "Epoch 82/100\n",
      "32/32 [==============================] - 4s 123ms/step - loss: 0.4097 - accuracy: 0.8963 - val_loss: 0.5049 - val_accuracy: 0.8447\n",
      "Epoch 83/100\n",
      "32/32 [==============================] - 4s 122ms/step - loss: 0.4097 - accuracy: 0.8943 - val_loss: 0.5170 - val_accuracy: 0.8539\n",
      "Epoch 84/100\n",
      "32/32 [==============================] - 4s 123ms/step - loss: 0.4005 - accuracy: 0.8914 - val_loss: 0.6077 - val_accuracy: 0.8447\n",
      "Epoch 85/100\n",
      "32/32 [==============================] - 4s 123ms/step - loss: 0.4026 - accuracy: 0.8973 - val_loss: 0.5376 - val_accuracy: 0.8493\n",
      "Epoch 86/100\n",
      "32/32 [==============================] - 4s 123ms/step - loss: 0.4015 - accuracy: 0.8953 - val_loss: 0.5259 - val_accuracy: 0.8402\n",
      "Epoch 87/100\n",
      "32/32 [==============================] - 4s 124ms/step - loss: 0.4072 - accuracy: 0.8894 - val_loss: 0.5136 - val_accuracy: 0.8493\n",
      "Epoch 88/100\n",
      "32/32 [==============================] - 4s 123ms/step - loss: 0.4212 - accuracy: 0.8855 - val_loss: 0.5085 - val_accuracy: 0.8539\n",
      "Epoch 89/100\n",
      "32/32 [==============================] - 4s 124ms/step - loss: 0.4031 - accuracy: 0.9031 - val_loss: 0.5057 - val_accuracy: 0.8539\n",
      "Epoch 90/100\n",
      "32/32 [==============================] - 4s 123ms/step - loss: 0.4177 - accuracy: 0.8933 - val_loss: 0.5058 - val_accuracy: 0.8493\n",
      "Epoch 91/100\n",
      "32/32 [==============================] - 4s 125ms/step - loss: 0.4296 - accuracy: 0.8933 - val_loss: 0.5062 - val_accuracy: 0.8539\n",
      "Epoch 92/100\n",
      "32/32 [==============================] - 4s 130ms/step - loss: 0.3991 - accuracy: 0.8933 - val_loss: 0.5093 - val_accuracy: 0.8539\n",
      "Epoch 93/100\n",
      "32/32 [==============================] - 4s 121ms/step - loss: 0.3984 - accuracy: 0.8982 - val_loss: 0.5166 - val_accuracy: 0.8539\n",
      "Epoch 94/100\n",
      "32/32 [==============================] - 4s 123ms/step - loss: 0.4083 - accuracy: 0.8855 - val_loss: 0.5042 - val_accuracy: 0.8447\n",
      "Epoch 95/100\n",
      "32/32 [==============================] - 4s 123ms/step - loss: 0.4179 - accuracy: 0.8836 - val_loss: 0.5112 - val_accuracy: 0.8539\n",
      "Epoch 96/100\n",
      "32/32 [==============================] - 4s 122ms/step - loss: 0.3973 - accuracy: 0.8963 - val_loss: 0.5114 - val_accuracy: 0.8493\n",
      "Epoch 97/100\n",
      "32/32 [==============================] - 4s 123ms/step - loss: 0.4112 - accuracy: 0.8924 - val_loss: 0.5077 - val_accuracy: 0.8539\n",
      "Epoch 98/100\n",
      "32/32 [==============================] - 4s 122ms/step - loss: 0.4019 - accuracy: 0.9061 - val_loss: 0.5027 - val_accuracy: 0.8493\n",
      "Epoch 99/100\n",
      "32/32 [==============================] - 4s 124ms/step - loss: 0.4030 - accuracy: 0.8943 - val_loss: 0.5030 - val_accuracy: 0.8493\n",
      "Epoch 100/100\n",
      "32/32 [==============================] - 4s 123ms/step - loss: 0.3954 - accuracy: 0.9051 - val_loss: 0.5172 - val_accuracy: 0.8493\n"
     ]
    }
   ],
   "source": [
    "model_3.compile(optimizer='adam',\n",
    "              loss='binary_crossentropy',\n",
    "              metrics=['accuracy'])\n",
    "hist_3 = model_3.fit(X_train, Y_train,\n",
    "          batch_size=32, epochs=100,\n",
    "          validation_data=(X_val, Y_val))"
   ]
  },
  {
   "cell_type": "markdown",
   "metadata": {},
   "source": [
    "We'll now plot the loss and accuracy graphs for Model 3. You'll notice that the loss is a lot higher at the start, and that's because we've changed our loss function. To plot such that the window is zoomed in between 0 and 1.2 for the loss, we add an additional line of code (plt.ylim) when plotting"
   ]
  },
  {
   "cell_type": "code",
   "execution_count": 40,
   "metadata": {},
   "outputs": [
    {
     "data": {
      "image/png": "[encoded data removed]",
      "text/plain": [
       "<Figure size 432x288 with 1 Axes>"
      ]
     },
     "metadata": {
      "needs_background": "light"
     },
     "output_type": "display_data"
    }
   ],
   "source": [
    "plt.plot(hist_3.history['loss'])\n",
    "plt.plot(hist_3.history['val_loss'])\n",
    "plt.title('Model loss')\n",
    "plt.ylabel('Loss')\n",
    "plt.xlabel('Epoch')\n",
    "plt.legend(['Train', 'Val'], loc='upper right')\n",
    "plt.ylim(top=1.2, bottom=0)\n",
    "plt.show()"
   ]
  },
  {
   "cell_type": "code",
   "execution_count": 41,
   "metadata": {},
   "outputs": [
    {
     "data": {
      "image/png": "[encoded data removed]",
      "text/plain": [
       "<Figure size 432x288 with 1 Axes>"
      ]
     },
     "metadata": {
      "needs_background": "light"
     },
     "output_type": "display_data"
    }
   ],
   "source": [
    "plt.plot(hist_3.history['accuracy'])\n",
    "plt.plot(hist_3.history['val_accuracy'])\n",
    "plt.title('Model accuracy')\n",
    "plt.ylabel('Accuracy')\n",
    "plt.xlabel('Epoch')\n",
    "plt.legend(['Train', 'Val'], loc='lower right')\n",
    "plt.show()"
   ]
  },
  {
   "cell_type": "markdown",
   "metadata": {},
   "source": [
    "As compared to Model 2, you should see that there's less overfitting!"
   ]
  },
  {
   "cell_type": "code",
   "execution_count": 42,
   "metadata": {},
   "outputs": [],
   "source": [
    "model.save(\"Model 1.h5\")"
   ]
  },
  {
   "cell_type": "code",
   "execution_count": 44,
   "metadata": {},
   "outputs": [],
   "source": [
    "model_2.save(\"Model 2.h5\")"
   ]
  },
  {
   "cell_type": "code",
   "execution_count": 45,
   "metadata": {},
   "outputs": [],
   "source": [
    "model_3.save(\"Model 3.h5\")"
   ]
  },
  {
   "cell_type": "code",
   "execution_count": null,
   "metadata": {},
   "outputs": [],
   "source": []
  }
 ],
 "metadata": {
  "kernelspec": {
   "display_name": "Python 3",
   "language": "python",
   "name": "python3"
  },
  "language_info": {
   "codemirror_mode": {
    "name": "ipython",
    "version": 3
   },
   "file_extension": ".py",
   "mimetype": "text/x-python",
   "name": "python",
   "nbconvert_exporter": "python",
   "pygments_lexer": "ipython3",
   "version": "3.8.2"
  }
 },
 "nbformat": 4,
 "nbformat_minor": 4
}
